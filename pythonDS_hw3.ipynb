{
 "cells": [
  {
   "cell_type": "code",
   "execution_count": 3,
   "metadata": {},
   "outputs": [
    {
     "data": {
      "text/plain": [
       "0.7112260057484943"
      ]
     },
     "execution_count": 3,
     "metadata": {},
     "output_type": "execute_result"
    }
   ],
   "source": [
    "#1. Импортируйте библиотеки pandas и numpy. Загрузите \"Boston House Prices dataset\" из встроенных наборов данных \n",
    "#библиотеки sklearn. Создайте датафреймы X и y из этих данных. Разбейте эти датафреймы на тренировочные (X_train, y_train) \n",
    "#и тестовые (X_test, y_test) с помощью функции train_test_split так, \n",
    "#чтобы размер тестовой выборки составлял 30% от всех данных, при этом аргумент random_state должен быть равен 42. \n",
    "#Создайте модель линейной регрессии под названием lr с помощью класса LinearRegression из модуля sklearn.linear_model. \n",
    "#Обучите модель на тренировочных данных (используйте все признаки) и сделайте предсказание на тестовых. \n",
    "#Вычислите R2 полученных предказаний с помощью r2_score из модуля sklearn.metrics. \n",
    "\n",
    "import numpy as np\n",
    "import pandas as pd\n",
    "from sklearn.datasets import load_boston\n",
    "\n",
    "boston = load_boston()\n",
    "X = pd.DataFrame(boston['data'], columns=boston['feature_names'])\n",
    "y = pd.DataFrame(boston['target'], columns=['price'])\n",
    "\n",
    "from sklearn.model_selection import train_test_split\n",
    "X_train, X_test, y_train, y_test = train_test_split(X, y, test_size=0.3, random_state=42)\n",
    "\n",
    "from sklearn.linear_model import LinearRegression\n",
    "lr = LinearRegression()\n",
    "\n",
    "lr.fit(X_train, y_train)\n",
    "y_pred = lr.predict(X_test)\n",
    "\n",
    "from sklearn.metrics import r2_score\n",
    "r2_score(y_test, y_pred)"
   ]
  },
  {
   "cell_type": "code",
   "execution_count": 5,
   "metadata": {},
   "outputs": [
    {
     "data": {
      "text/plain": [
       "0.8749965273218174"
      ]
     },
     "execution_count": 5,
     "metadata": {},
     "output_type": "execute_result"
    }
   ],
   "source": [
    "#2.Создайте модель под названием model с помощью RandomForestRegressor из модуля sklearn.ensemble. \n",
    "#Сделайте агрумент n_estimators равным 1000, max_depth должен быть равен 12 и random_state сделайте равным 42. \n",
    "#Обучите модель на тренировочных данных аналогично тому, как вы обучали модель LinearRegression, \n",
    "#но при этом в метод fit вместо датафрейма y_train поставьте y_train.values[:, 0], чтобы получить \n",
    "#из датафрейма одномерный массив Numpy, так как для класса RandomForestRegressor в данном методе для аргумента y \n",
    "#предпочтительно применение массивов вместо датафрейма.\n",
    "#Сделайте предсказание на тестовых данных и посчитайте R2. Сравните с результатом из предыдущего задания.\n",
    "#Напишите в комментариях к коду, какая модель в данном случае работает лучше.\n",
    "\n",
    "from sklearn.ensemble import RandomForestRegressor\n",
    "rfr_mod = RandomForestRegressor(n_estimators=1000, max_depth=12, random_state=42)\n",
    "rfr_mod.fit(X_train, y_train.values[:, 0])\n",
    "\n",
    "y_pred_rfr = rfr_mod.predict(X_test)\n",
    "r2_score(y_test, y_pred_rfr)\n",
    "\n",
    "# Очевидно, что значение коэффициента детерминации для модели построенной на алгоритме Случайного леса существенно выше, \n",
    "# чем для алгоритма Линейной регрессии.  "
   ]
  },
  {
   "cell_type": "code",
   "execution_count": 14,
   "metadata": {},
   "outputs": [
    {
     "name": "stdout",
     "output_type": "stream",
     "text": [
      "0.9999999999999994\n"
     ]
    },
    {
     "data": {
      "text/plain": [
       "RandomForestRegressor(bootstrap=True, criterion='mse', max_depth=12,\n",
       "           max_features='auto', max_leaf_nodes=None,\n",
       "           min_impurity_decrease=0.0, min_impurity_split=None,\n",
       "           min_samples_leaf=1, min_samples_split=2,\n",
       "           min_weight_fraction_leaf=0.0, n_estimators=1000, n_jobs=None,\n",
       "           oob_score=False, random_state=42, verbose=0, warm_start=False)"
      ]
     },
     "execution_count": 14,
     "metadata": {},
     "output_type": "execute_result"
    }
   ],
   "source": [
    "#3.Вызовите документацию для класса RandomForestRegressor,найдите информацию об атрибуте feature_importances.\n",
    "#С помощью этого атрибута найдите сумму всех показателей важности, установите, \n",
    "#какие два признака показывают наибольшую важность.\n",
    "\n",
    "? RandomForestRegressor\n",
    "#feature_importances_ : array of shape = [n_features]\n",
    "#    The feature importances (the higher, the more important the feature).\n",
    "\n",
    "mod_fe = rfr_mod.feature_importances_\n",
    "sum_fe = mod_fe.sum()\n",
    "print(sum_fe)\n",
    "rfr_mod\n",
    "\n",
    "#Я не понимаю как связать частоту признаков с самими признаками. У меня вообще сложилось ощущение, что объект класса RFR \n",
    "#названия признаков не хранит. В методичке об этом ничего нет :("
   ]
  },
  {
   "cell_type": "code",
   "execution_count": null,
   "metadata": {},
   "outputs": [],
   "source": [
    "\n",
    "\n",
    "\n",
    "\n",
    "\n",
    "\n",
    "\n",
    "\n",
    "\n",
    "\n",
    "\n",
    "\n",
    "\n",
    "\n",
    "\n",
    "\n",
    "\n",
    "\n",
    "\n",
    "\n",
    "\n",
    "\n",
    "\n",
    "\n"
   ]
  },
  {
   "cell_type": "code",
   "execution_count": null,
   "metadata": {},
   "outputs": [],
   "source": []
  }
 ],
 "metadata": {
  "kernelspec": {
   "display_name": "Python 3",
   "language": "python",
   "name": "python3"
  },
  "language_info": {
   "codemirror_mode": {
    "name": "ipython",
    "version": 3
   },
   "file_extension": ".py",
   "mimetype": "text/x-python",
   "name": "python",
   "nbconvert_exporter": "python",
   "pygments_lexer": "ipython3",
   "version": "3.7.3"
  }
 },
 "nbformat": 4,
 "nbformat_minor": 2
}
